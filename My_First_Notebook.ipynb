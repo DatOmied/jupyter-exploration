{
 "cells": [
  {
   "cell_type": "markdown",
   "id": "faa80cbb-2a42-4a83-bc00-3afbf29822ba",
   "metadata": {},
   "source": [
    "# Not quite my first markdown cell in Jupyter"
   ]
  },
  {
   "cell_type": "code",
   "execution_count": 1,
   "id": "e8ebc721-27c4-4c04-8b13-7c203c0e1360",
   "metadata": {},
   "outputs": [
    {
     "name": "stdout",
     "output_type": "stream",
     "text": [
      "Woohoo!\n"
     ]
    }
   ],
   "source": [
    "print(\"Woohoo!\")"
   ]
  },
  {
   "cell_type": "code",
   "execution_count": null,
   "id": "dcde8fa0-38ec-439a-8920-cada8eb7e0b3",
   "metadata": {},
   "outputs": [],
   "source": []
  }
 ],
 "metadata": {
  "kernelspec": {
   "display_name": "Python 3 (ipykernel)",
   "language": "python",
   "name": "python3"
  },
  "language_info": {
   "codemirror_mode": {
    "name": "ipython",
    "version": 3
   },
   "file_extension": ".py",
   "mimetype": "text/x-python",
   "name": "python",
   "nbconvert_exporter": "python",
   "pygments_lexer": "ipython3",
   "version": "3.11.7"
  }
 },
 "nbformat": 4,
 "nbformat_minor": 5
}
